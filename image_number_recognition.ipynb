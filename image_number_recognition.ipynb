{
  "cells": [
    {
      "cell_type": "markdown",
      "metadata": {
        "id": "view-in-github",
        "colab_type": "text"
      },
      "source": [
        "<a href=\"https://colab.research.google.com/github/Daniel-Page/tensorflow-learning-projects/blob/main/image_number_recognition.ipynb\" target=\"_parent\"><img src=\"https://colab.research.google.com/assets/colab-badge.svg\" alt=\"Open In Colab\"/></a>"
      ]
    },
    {
      "cell_type": "markdown",
      "metadata": {
        "id": "Q8Q-0OQUs1ri"
      },
      "source": [
        "# Image Number Recognition\n",
        "Image --> Model --> Character"
      ]
    },
    {
      "cell_type": "code",
      "execution_count": 115,
      "metadata": {
        "colab": {
          "base_uri": "https://localhost:8080/"
        },
        "id": "U8aXEfjuOkP6",
        "outputId": "4f4e6620-5f56-4641-e963-294a4a03b5b7"
      },
      "outputs": [
        {
          "output_type": "stream",
          "name": "stdout",
          "text": [
            "TensorFlow version: 2.8.2\n"
          ]
        }
      ],
      "source": [
        "import tensorflow as tf\n",
        "import matplotlib.pyplot as plt\n",
        "import numpy as np\n",
        "%matplotlib inline\n",
        "\n",
        "print(\"TensorFlow version:\", tf.__version__)"
      ]
    },
    {
      "cell_type": "markdown",
      "metadata": {
        "id": "dgf_RiEsVC5s"
      },
      "source": [
        "## Import Dataset"
      ]
    },
    {
      "cell_type": "code",
      "execution_count": 116,
      "metadata": {
        "id": "Ft4iLpveOnAH"
      },
      "outputs": [],
      "source": [
        "# MNIST: a dataset of handwritten digits\n",
        "# http://yann.lecun.com/exdb/mnist/\n",
        "mnist = tf.keras.datasets.mnist\n",
        "\n",
        "(x_train, y_train), (x_test, y_test) = mnist.load_data()\n",
        "x_train = x_train / 255.0 # Int -> Float\n",
        "x_test = x_test / 255.0 # Int -> Float"
      ]
    },
    {
      "cell_type": "code",
      "execution_count": 117,
      "metadata": {
        "colab": {
          "base_uri": "https://localhost:8080/",
          "height": 283
        },
        "id": "VTAeXzA9sVpQ",
        "outputId": "39cd7ab3-67be-47ae-c7cc-c78b32737941"
      },
      "outputs": [
        {
          "output_type": "display_data",
          "data": {
            "text/plain": [
              "<Figure size 432x288 with 1 Axes>"
            ],
            "image/png": "[encoded data removed]"
          },
          "metadata": {
            "needs_background": "light"
          }
        },
        {
          "output_type": "stream",
          "name": "stdout",
          "text": [
            "Ground truth number: 5\n"
          ]
        }
      ],
      "source": [
        "# Plots a single letter from the training set and prints the ground truth\n",
        "plt.imshow(x_train[0], cmap=plt.get_cmap('gray')) \n",
        "plt.show()\n",
        "print(\"Ground truth number:\", y_train[0])"
      ]
    },
    {
      "cell_type": "markdown",
      "metadata": {
        "id": "hWewiK8ZUhHc"
      },
      "source": [
        "## Train Model"
      ]
    },
    {
      "cell_type": "code",
      "execution_count": 121,
      "metadata": {
        "colab": {
          "base_uri": "https://localhost:8080/"
        },
        "id": "lgtjUozPMJBB",
        "outputId": "42cef0c7-5ab0-4bf4-9cfc-f4b470846ead"
      },
      "outputs": [
        {
          "output_type": "stream",
          "name": "stdout",
          "text": [
            "Epoch 1/5\n",
            "1875/1875 [==============================] - 10s 5ms/step - loss: 0.2971 - accuracy: 0.9137\n",
            "Epoch 2/5\n",
            "1875/1875 [==============================] - 6s 3ms/step - loss: 0.1423 - accuracy: 0.9577\n",
            "Epoch 3/5\n",
            "1875/1875 [==============================] - 6s 3ms/step - loss: 0.1059 - accuracy: 0.9679\n",
            "Epoch 4/5\n",
            "1875/1875 [==============================] - 6s 3ms/step - loss: 0.0869 - accuracy: 0.9728\n",
            "Epoch 5/5\n",
            "1875/1875 [==============================] - 6s 3ms/step - loss: 0.0727 - accuracy: 0.9769\n"
          ]
        }
      ],
      "source": [
        "# Groups a linear stack of layers\n",
        "model = tf.keras.models.Sequential([\n",
        "  tf.keras.layers.Flatten(input_shape=(28, 28)), # 28 x 28 pixels, 2D array flattened to single vector\n",
        "  tf.keras.layers.Dense(128, activation='relu'),\n",
        "  tf.keras.layers.Dropout(0.2),\n",
        "  tf.keras.layers.Dense(10)\n",
        "])\n",
        "\n",
        "# Logits: the vector of raw (non-normalised) predictions\n",
        "# Single image indexed with x_train[:1]\n",
        "# Multi-class classification problem because multiple letters possible\n",
        "predictions = model(x_train[:1]).numpy()\n",
        "\n",
        "\n",
        "# Converts logits to probabilities for each class\n",
        "tf.nn.softmax(predictions).numpy()\n",
        "\n",
        "# Loss function\n",
        "loss_fn = tf.keras.losses.SparseCategoricalCrossentropy(from_logits=True)\n",
        "loss_fn(y_train[:1], predictions).numpy()\n",
        "\n",
        "\n",
        "model.compile(optimizer='adam',\n",
        "              loss=loss_fn,\n",
        "              metrics=['accuracy'])\n",
        "\n",
        "model.fit(x_train, y_train, epochs=5);"
      ]
    },
    {
      "cell_type": "markdown",
      "metadata": {
        "id": "2pr7bri9UJj4"
      },
      "source": [
        "## Test Model"
      ]
    },
    {
      "cell_type": "code",
      "execution_count": 123,
      "metadata": {
        "colab": {
          "base_uri": "https://localhost:8080/",
          "height": 339
        },
        "id": "32bENS9tRbJD",
        "outputId": "dc703149-3c65-4854-f2f1-8cfbd0d7f232"
      },
      "outputs": [
        {
          "output_type": "stream",
          "name": "stdout",
          "text": [
            "313/313 - 1s - loss: 0.0762 - accuracy: 0.9776 - 597ms/epoch - 2ms/step\n",
            "\n",
            "\n"
          ]
        },
        {
          "output_type": "display_data",
          "data": {
            "text/plain": [
              "<Figure size 432x288 with 1 Axes>"
            ],
            "image/png": "[encoded data removed]"
          },
          "metadata": {
            "needs_background": "light"
          }
        },
        {
          "output_type": "stream",
          "name": "stdout",
          "text": [
            "Predicted number: 4\n"
          ]
        }
      ],
      "source": [
        "model.evaluate(x_test,  y_test, verbose=2)\n",
        "print(\"\\n\")\n",
        "\n",
        "test_case = x_test[4]\n",
        "\n",
        "# Plots a single letter from the training set and prints the ground truth\n",
        "plt.imshow(test_case, cmap=plt.get_cmap('gray')) \n",
        "plt.show()\n",
        "\n",
        "predict_x = model.predict(np.array([test_case])) \n",
        "classes_x = np.argmax(predict_x, axis = 1)\n",
        "print(\"Predicted number:\", classes_x[0])"
      ]
    }
  ],
  "metadata": {
    "colab": {
      "collapsed_sections": [],
      "name": "image_number_recognition.ipynb",
      "provenance": [],
      "authorship_tag": "ABX9TyP9+F/mM6IG0Cwnjn66iHIz",
      "include_colab_link": true
    },
    "kernelspec": {
      "display_name": "Python 3",
      "name": "python3"
    },
    "language_info": {
      "name": "python"
    }
  },
  "nbformat": 4,
  "nbformat_minor": 0
}